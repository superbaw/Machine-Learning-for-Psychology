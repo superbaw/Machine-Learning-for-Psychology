{
  "nbformat": 4,
  "nbformat_minor": 0,
  "metadata": {
    "colab": {
      "provenance": []
    },
    "kernelspec": {
      "name": "python3",
      "display_name": "Python 3"
    },
    "language_info": {
      "name": "python"
    }
  },
  "cells": [
    {
      "cell_type": "markdown",
      "source": [
        "**If the decision tree overfits, try using these following codes:**"
      ],
      "metadata": {
        "id": "bgvosUHaANDY"
      }
    },
    {
      "cell_type": "code",
      "execution_count": null,
      "metadata": {
        "id": "bDjlSPloAHYf"
      },
      "outputs": [],
      "source": [
        "from sklearn.model_selection import cross_val_score\n",
        "\n",
        "# Perform cross-validation with 5 folds\n",
        "scores = cross_val_score(model, X_train, y_train, cv=5)\n",
        "print(\"Cross-validation scores:\", scores)\n",
        "print(\"Mean cross-validation score:\", scores.mean())"
      ]
    },
    {
      "cell_type": "code",
      "source": [
        "# Determine the best value for the ccp_alpha parameter\n",
        "path = model.cost_complexity_pruning_path(X_train, y_train)\n",
        "ccp_alphas, impurities = path.ccp_alphas, path.impurities"
      ],
      "metadata": {
        "id": "f2_5nz_DALwn"
      },
      "execution_count": null,
      "outputs": []
    },
    {
      "cell_type": "code",
      "source": [
        "# Train a decision tree for each value of ccp_alpha\n",
        "models = []\n",
        "for ccp_alpha in ccp_alphas:\n",
        "    pruned_model = DecisionTreeClassifier(random_state=101, ccp_alpha=ccp_alpha)\n",
        "    pruned_model.fit(X_train, y_train)\n",
        "    models.append(pruned_model)"
      ],
      "metadata": {
        "id": "hziOVEagAcb5"
      },
      "execution_count": null,
      "outputs": []
    },
    {
      "cell_type": "code",
      "source": [
        "# Calculate the accuracy for each pruned tree\n",
        "train_scores = [model.score(X_train, y_train) for model in models]\n",
        "test_scores = [model.score(X_test, y_test) for model in models]"
      ],
      "metadata": {
        "id": "qI56_ozsAhRp"
      },
      "execution_count": null,
      "outputs": []
    },
    {
      "cell_type": "code",
      "source": [
        "# Plot the accuracy vs. alpha for training and testing sets\n",
        "plt.figure(figsize=(10, 5))\n",
        "plt.plot(ccp_alphas, train_scores, marker='o', label=\"train\",\n",
        "         drawstyle=\"steps-post\")\n",
        "plt.plot(ccp_alphas, test_scores, marker='o', label=\"test\",\n",
        "         drawstyle=\"steps-post\")\n",
        "plt.xlabel(\"alpha\")\n",
        "plt.ylabel(\"accuracy\")\n",
        "plt.title(\"Accuracy vs. alpha for training and testing sets\")\n",
        "plt.legend()\n",
        "plt.show()"
      ],
      "metadata": {
        "id": "bW1iEPrDAnSR"
      },
      "execution_count": null,
      "outputs": []
    },
    {
      "cell_type": "code",
      "source": [
        "# Find the best value for ccp_alpha\n",
        "best_alpha = ccp_alphas[np.argmax(test_scores)]\n",
        "print(\"Best alpha:\", best_alpha)"
      ],
      "metadata": {
        "id": "61_xzjxDAsYP"
      },
      "execution_count": null,
      "outputs": []
    },
    {
      "cell_type": "code",
      "source": [
        "# Prune the final model using the best alpha\n",
        "final_model = DecisionTreeClassifier(random_state=101, ccp_alpha=best_alpha) # Kahit known na yung best Alpha, pwede mo pa rin ito laruin\n",
        "final_model.fit(X_train, y_train)"
      ],
      "metadata": {
        "id": "hfVZ5eNfAwEw"
      },
      "execution_count": null,
      "outputs": []
    },
    {
      "cell_type": "code",
      "source": [
        "# Evaluate the pruned model\n",
        "pruned_preds = final_model.predict(X_test)\n",
        "print(\"Pruned Decision Tree Classification Report:\")\n",
        "print(classification_report(y_test, pruned_preds))"
      ],
      "metadata": {
        "id": "Vr5UJRaDAyLH"
      },
      "execution_count": null,
      "outputs": []
    },
    {
      "cell_type": "code",
      "source": [
        "from sklearn.tree import plot_tree\n",
        "\n",
        "# Plot the pruned decision tree\n",
        "plt.figure(figsize=(15, 10), dpi=1000) # Pwede mo rin itong galawin Para mas gumanda ang figures\n",
        "plot_tree(final_model, feature_names=X.columns, class_names=['Employed', 'Unemployed'], filled=True)\n",
        "plt.show()"
      ],
      "metadata": {
        "id": "s5XcmZU1A1n3"
      },
      "execution_count": null,
      "outputs": []
    },
    {
      "cell_type": "markdown",
      "source": [
        "**Hope this helps!**"
      ],
      "metadata": {
        "id": "Srj86hbPA5Wk"
      }
    }
  ]
}