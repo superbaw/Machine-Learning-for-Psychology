{
  "nbformat": 4,
  "nbformat_minor": 0,
  "metadata": {
    "colab": {
      "provenance": []
    },
    "kernelspec": {
      "name": "python3",
      "display_name": "Python 3"
    },
    "language_info": {
      "name": "python"
    }
  },
  "cells": [
    {
      "cell_type": "markdown",
      "source": [
        "**Use this correction if you have high accuracy but still overfits**"
      ],
      "metadata": {
        "id": "gax5nbIhRb2V"
      }
    },
    {
      "cell_type": "code",
      "execution_count": null,
      "metadata": {
        "id": "1AYh4sINRbUm"
      },
      "outputs": [],
      "source": [
        "# Fine-Tune Parameters\n",
        "from sklearn.model_selection import GridSearchCV\n",
        "\n",
        "# Define the parameter grid to search\n",
        "param_grid = {\n",
        "    'max_leaf_nodes': [None, 5, 10, 20, 50],  # Adjust the values as needed\n",
        "    'min_samples_split': [2, 5, 10, 20],       # Adjust the values as needed\n",
        "    'min_samples_leaf': [1, 2, 4],             # Adjust the values as needed\n",
        "    'max_depth': [None, 5, 10, 20]             # Adjust the values as needed\n",
        "}\n",
        "\n",
        "# Instantiate the GridSearchCV object\n",
        "grid_search = GridSearchCV(DecisionTreeClassifier(random_state=101), param_grid, cv=5, scoring='accuracy')\n",
        "\n",
        "# Fit the GridSearchCV object to the training data\n",
        "grid_search.fit(X_train, y_train)\n",
        "\n",
        "# Get the best parameters\n",
        "best_params = grid_search.best_params_\n",
        "print(\"Best Parameters:\", best_params)\n",
        "\n",
        "# Evaluate the model with the best parameters\n",
        "best_model = grid_search.best_estimator_\n",
        "best_model_preds = best_model.predict(X_test)\n",
        "print(\"Decision Tree Classification Report with Fine-Tuned Parameters:\")\n",
        "print(classification_report(y_test, best_model_preds))\n",
        "\n",
        "# Plot the pruned decision tree with the best parameters\n",
        "plt.figure(figsize=(15, 10))\n",
        "plot_tree(best_model, feature_names=X.columns, class_names=['Employed', 'Unemployed'], filled=True)\n",
        "plt.show()\n"
      ]
    },
    {
      "cell_type": "markdown",
      "source": [
        "**Good luck planting trees!**"
      ],
      "metadata": {
        "id": "5kcLUv1bRjmi"
      }
    }
  ]
}