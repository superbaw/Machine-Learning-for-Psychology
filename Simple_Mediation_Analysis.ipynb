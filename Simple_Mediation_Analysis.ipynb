{
  "nbformat": 4,
  "nbformat_minor": 0,
  "metadata": {
    "colab": {
      "provenance": []
    },
    "kernelspec": {
      "name": "python3",
      "display_name": "Python 3"
    },
    "language_info": {
      "name": "python"
    }
  },
  "cells": [
    {
      "cell_type": "markdown",
      "source": [
        "**SIMPLE MEDIATION ANALYSIS ON PYTHON (BETA)**"
      ],
      "metadata": {
        "id": "C3nvnM1t7ll6"
      }
    },
    {
      "cell_type": "code",
      "source": [
        "#INSTALL SEABORN\n",
        "\n",
        "pip install pandas statsmodels seaborn\n"
      ],
      "metadata": {
        "id": "lx3Ie1hk7xPa"
      },
      "execution_count": null,
      "outputs": []
    },
    {
      "cell_type": "code",
      "source": [
        "#IMPORT LIBRARIES\n",
        "\n",
        "import pandas as pd\n",
        "import statsmodels.api as sm\n",
        "import statsmodels.formula.api as smf\n",
        "import seaborn as sns\n",
        "import matplotlib.pyplot as plt\n",
        "import matplotlib.pyplot as plt\n",
        "import networkx as nx\n",
        "import matplotlib.patches as mpatches"
      ],
      "metadata": {
        "id": "B3f8dmLv759h"
      },
      "execution_count": null,
      "outputs": []
    },
    {
      "cell_type": "code",
      "source": [
        "# Load the data\n",
        "\n",
        "data = pd.read_csv('DIRECT LINK OF THE CSV')\n",
        "\n",
        "# Display the first few rows of the dataframe to check the data\n",
        "\n",
        "print(data.head(3))\n"
      ],
      "metadata": {
        "id": "URyooCWc75yQ"
      },
      "execution_count": null,
      "outputs": []
    },
    {
      "cell_type": "code",
      "source": [
        "# Define the variables\n",
        "\n",
        "X = data['Variable name of X']\n",
        "M = data['Variable name of M']\n",
        "Y = data['Variable name of Y']"
      ],
      "metadata": {
        "id": "F0XTKR5-8Gmy"
      },
      "execution_count": null,
      "outputs": []
    },
    {
      "cell_type": "code",
      "source": [
        "# Path A: X → M\n",
        "\n",
        "model_a = smf.ols('M ~ X', data=data).fit()\n",
        "print(model_a.summary())"
      ],
      "metadata": {
        "id": "tn0xDORb8Tqo"
      },
      "execution_count": null,
      "outputs": []
    },
    {
      "cell_type": "code",
      "source": [
        "# Path B: M → Y (including X as a control variable)\n",
        "\n",
        "model_b = smf.ols('Y ~ M + X', data=data).fit()\n",
        "print(model_b.summary())"
      ],
      "metadata": {
        "id": "qQVsH6718X_3"
      },
      "execution_count": null,
      "outputs": []
    },
    {
      "cell_type": "code",
      "source": [
        "# Path C: X → Y (total effect)\n",
        "\n",
        "model_c = smf.ols('Y ~ X', data=data).fit()\n",
        "print(model_c.summary())"
      ],
      "metadata": {
        "id": "00bho3Rs8bfI"
      },
      "execution_count": null,
      "outputs": []
    },
    {
      "cell_type": "code",
      "source": [
        "# Calculate direct effect (Path C')\n",
        "\n",
        "direct_effect = model_b.params['M']\n",
        "direct_effect_se = model_b.bse['M']\n",
        "direct_effect_zval = model_b.tvalues['M']\n",
        "direct_effect_pval = model_b.pvalues['M']\n",
        "\n",
        "# Calculate indirect effect (Path A * Path B)\n",
        "\n",
        "indirect_effect = model_a.params['X'] * model_b.params['M']\n",
        "indirect_effect_se = indirect_effect * np.sqrt((model_a.bse['X']**2) + (model_b.bse['M']**2))\n",
        "indirect_effect_zval = indirect_effect / indirect_effect_se\n",
        "indirect_effect_pval = stats.norm.sf(np.abs(indirect_effect_zval)) * 2\n",
        "\n",
        "# Calculate total effect (Path C)\n",
        "\n",
        "total_effect = model_c.params['X']\n",
        "total_effect_se = model_c.bse['X']\n",
        "total_effect_zval = model_c.tvalues['X']\n",
        "total_effect_pval = model_c.pvalues['X']\n",
        "\n",
        "# Print results\n",
        "\n",
        "print(\"Direct Effect:\")\n",
        "print(f\"  Estimate: {direct_effect}\")\n",
        "print(f\"  Standard Error: {direct_effect_se}\")\n",
        "print(f\"  Z Value: {direct_effect_zval}\")\n",
        "print(f\"  P Value: {direct_effect_pval}\\n\")\n",
        "\n",
        "print(\"Indirect Effect:\")\n",
        "print(f\"  Estimate: {indirect_effect}\")\n",
        "print(f\"  Standard Error: {indirect_effect_se}\")\n",
        "print(f\"  Z Value: {indirect_effect_zval}\")\n",
        "print(f\"  P Value: {indirect_effect_pval}\\n\")\n",
        "\n",
        "print(\"Total Effect:\")\n",
        "print(f\"  Estimate: {total_effect}\")\n",
        "print(f\"  Standard Error: {total_effect_se}\")\n",
        "print(f\"  Z Value: {total_effect_zval}\")\n",
        "print(f\"  P Value: {total_effect_pval}\")"
      ],
      "metadata": {
        "id": "oKcjKvqB8gEd"
      },
      "execution_count": null,
      "outputs": []
    },
    {
      "cell_type": "code",
      "source": [
        "# Create a directed graph\n",
        "\n",
        "G = nx.DiGraph()\n",
        "\n",
        "# Add nodes with positions\n",
        "\n",
        "G.add_node(\"X\", pos=(0, 0))\n",
        "G.add_node(\"M\", pos=(2, 2))\n",
        "G.add_node(\"Y\", pos=(4, 0))\n",
        "\n",
        "# Add edges with weights\n",
        "\n",
        "G.add_edge(\"X\", \"M\", weight=model_a.params['X'])\n",
        "G.add_edge(\"M\", \"Y\", weight=model_b.params['M'])\n",
        "G.add_edge(\"X\", \"Y\", weight=model_c.params['X'])\n",
        "\n",
        "# Get positions of nodes\n",
        "\n",
        "pos = nx.get_node_attributes(G, 'pos')\n",
        "\n",
        "# Define short labels for nodes\n",
        "\n",
        "short_labels = {\"X\": \"Trt\", \"M\": \"Sct\", \"Y\": \"Agg\"} #You can customize this\n",
        "nx.draw_networkx_labels(G, pos, short_labels, font_size=12)\n",
        "\n",
        "# Draw nodes and edges\n",
        "\n",
        "nx.draw(G, pos, with_labels=False, node_size=2000, node_color='pink', font_size=12, arrowsize=20, node_shape='s')\n",
        "\n",
        "# Define full descriptions for the legend\n",
        "\n",
        "full_descriptions = {\n",
        "    \"Trt\": \"Trash-talking\", #you can customize this\n",
        "    \"Sct\": \"Screen time\", #you can customize this\n",
        "    \"Agg\": \"Aggression\" #you can customize this\n",
        "}\n",
        "\n",
        "# Draw edge labels\n",
        "\n",
        "edge_labels = {(u, v): f\"{G[u][v]['weight']:.2f}\" for u, v in G.edges()}\n",
        "nx.draw_networkx_edge_labels(G, pos, edge_labels=edge_labels, font_size=10)\n",
        "\n",
        "# Create legend\n",
        "\n",
        "legend_patches = [mpatches.Patch(color='pink', label=f\"{short}: {full}\") for short, full in full_descriptions.items()]\n",
        "plt.legend(handles=legend_patches, loc='upper left')\n",
        "\n",
        "# Add title\n",
        "\n",
        "plt.title(\"Simple Mediation Path Plot\") #you can customize title as well\n",
        "\n",
        "# Show plot\n",
        "\n",
        "plt.show()"
      ],
      "metadata": {
        "id": "ycu8ns8c8qhm"
      },
      "execution_count": null,
      "outputs": []
    },
    {
      "cell_type": "markdown",
      "source": [
        "THIS METHOD IS STILL IN BETA TESTING"
      ],
      "metadata": {
        "id": "vheJxd6d84Xu"
      }
    }
  ]
}