{
  "nbformat": 4,
  "nbformat_minor": 0,
  "metadata": {
    "colab": {
      "provenance": []
    },
    "kernelspec": {
      "name": "python3",
      "display_name": "Python 3"
    },
    "language_info": {
      "name": "python"
    }
  },
  "cells": [
    {
      "cell_type": "markdown",
      "source": [
        "**Basic Decision Tree Classification using Python** 😊\n",
        "\n",
        "by: Jomar Saif P. Baudin\n",
        "\n",
        "In this workshop we will use google colaboratory and python syntax to build a Decision Tree, which uses continuous and categorical data from the [sample data](https://github.com/superbaw/Machine-Learning-for-Psychology/blob/main/Board%20Exam.csv) to predict whether or not a college graduate has passed the board examination.\n",
        "\n",
        "Decision Trees are an exceptionally useful machine learning method when you need to know how the decisions are being made. For example, if you have to justify the predictions to your superior, Decision Trees are a good method because each step in the decision-making process is easy to understand.\n",
        "\n",
        "In this workshop, you will learn about:\n",
        "1.\tImporting python libraries\n",
        "2.\tLoading Dataset\n",
        "3.\tChecking the missing data\n",
        "4.\tFinding the missing data\n",
        "5.\tRemoving missing values\n",
        "6.\tFurther data cleaning\n",
        "7.\tChecking the number of classes, unique values under species column\n",
        "8.\tGenerating descriptive statistics results\n",
        "9.\tGenerating plots\n",
        "10.\tPreprocessing data for decision tree\n",
        "11.\tSplitting the data into training and testing subsets\n",
        "12.\tTraining decision tree classifier using training data\n",
        "13.\tObtaining predictions from trained decision tree using the testing data\n",
        "14.\tGenerating a classification report\n",
        "15.\tGenerating a confusion matrix\n",
        "16.\tDisplaying feature importance\n",
        "17.\tGenerating text representation of decision tree\n",
        "18.\tGenerating the decision tree plot\n",
        "\n",
        "Importing python libraries:\n",
        "\n",
        "\n",
        "\n",
        "```\n",
        "#Importing python libraries\n",
        "\n",
        "import pandas as pd # Pandas for Data Manipulation\n",
        "import numpy as np # Numerical Python for Numerical data\n",
        "import matplotlib.pyplot as plt # Data visualizations\n",
        "import seaborn as sns # Data Visualizations\n",
        "\n",
        "```\n",
        "\n"
      ],
      "metadata": {
        "id": "-BrutjkDM3hW"
      }
    }
  ]
}