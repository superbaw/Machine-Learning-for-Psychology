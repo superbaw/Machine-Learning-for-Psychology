{
  "nbformat": 4,
  "nbformat_minor": 0,
  "metadata": {
    "colab": {
      "provenance": []
    },
    "kernelspec": {
      "name": "python3",
      "display_name": "Python 3"
    },
    "language_info": {
      "name": "python"
    }
  },
  "cells": [
    {
      "cell_type": "markdown",
      "source": [
        "**Basic Decision Tree Classification using Python** 😊\n",
        "\n",
        "by: Jomar Saif P. Baudin\n",
        "\n",
        "In this workshop we will use google colaboratory and python syntax to build a Decision Tree, which uses continuous and categorical data from the [sample data](https://github.com/superbaw/Machine-Learning-for-Psychology/blob/main/Board%20Exam.csv) to predict whether or not a college graduate has passed the board examination.\n",
        "\n",
        "Decision Trees are an exceptionally useful machine learning method when you need to know how the decisions are being made. For example, if you have to justify the predictions to your superior, Decision Trees are a good method because each step in the decision-making process is easy to understand.\n",
        "\n",
        "In this workshop, you will learn about:\n",
        "1.\tImporting python libraries\n",
        "2.\tLoading Dataset\n",
        "3.\tChecking the missing data\n",
        "4.\tFinding the missing data\n",
        "5.\tRemoving missing values\n",
        "6.\tFurther data cleaning\n",
        "7.\tChecking the number of classes, unique values under species column\n",
        "8.\tGenerating descriptive statistics results\n",
        "9.\tGenerating plots\n",
        "10.\tPreprocessing data for decision tree\n",
        "11.\tSplitting the data into training and testing subsets\n",
        "12.\tTraining decision tree classifier using training data\n",
        "13.\tObtaining predictions from trained decision tree using the testing data\n",
        "14.\tGenerating a classification report\n",
        "15.\tGenerating a confusion matrix\n",
        "16.\tDisplaying feature importance\n",
        "17.\tGenerating text representation of decision tree\n",
        "18.\tGenerating the decision tree plot\n",
        "\n",
        "Importing python libraries:\n",
        "\n",
        "\n",
        "\n",
        "\n",
        "\n",
        "\n"
      ],
      "metadata": {
        "id": "-BrutjkDM3hW"
      }
    },
    {
      "cell_type": "code",
      "source": [
        "#Importing python libraries\n",
        "\n",
        "import pandas as pd # Pandas for Data Manipulation\n",
        "import numpy as np # Numerical Python for Numerical data\n",
        "import matplotlib.pyplot as plt # Data visualizations\n",
        "import seaborn as sns # Data Visualizations"
      ],
      "metadata": {
        "id": "shrCBOndOrsv"
      },
      "execution_count": 1,
      "outputs": []
    },
    {
      "cell_type": "markdown",
      "source": [
        "Loading dataset:"
      ],
      "metadata": {
        "id": "em61QBFzPGUW"
      }
    },
    {
      "cell_type": "code",
      "source": [
        "# Load Dataset\n",
        "\n",
        "df = pd.read_csv(\"direct link of the spreadsheet.csv\")\n",
        "df.head # DataFrame, .head .tail, .sample"
      ],
      "metadata": {
        "id": "JfkVPbfTPJ4I"
      },
      "execution_count": null,
      "outputs": []
    },
    {
      "cell_type": "markdown",
      "source": [
        "Checking the missing data:"
      ],
      "metadata": {
        "id": "z4usijq3PMjl"
      }
    },
    {
      "cell_type": "code",
      "source": [
        "#Checking of missing data\n",
        "\n",
        "df.info()"
      ],
      "metadata": {
        "id": "fIDqkF8dPYSH"
      },
      "execution_count": null,
      "outputs": []
    },
    {
      "cell_type": "markdown",
      "source": [
        "Finding the missing data:"
      ],
      "metadata": {
        "id": "lm5s6TwhPfs-"
      }
    },
    {
      "cell_type": "code",
      "source": [
        "# Find the Missing Data\n",
        "\n",
        "df.isnull().sum() # magbilang ng missing data"
      ],
      "metadata": {
        "id": "VCPKvaKTPiDd"
      },
      "execution_count": null,
      "outputs": []
    },
    {
      "cell_type": "markdown",
      "source": [
        "Removing missing values:"
      ],
      "metadata": {
        "id": "Y3tyFmAOPkkN"
      }
    },
    {
      "cell_type": "code",
      "source": [
        "# Removing missing values\n",
        "\n",
        "df = df.dropna()\n",
        "df.isnull().sum()"
      ],
      "metadata": {
        "id": "eSop8HjNPnYk"
      },
      "execution_count": null,
      "outputs": []
    },
    {
      "cell_type": "markdown",
      "source": [
        "Further data cleaning:"
      ],
      "metadata": {
        "id": "9Tv2WGO8Pwyd"
      }
    },
    {
      "cell_type": "code",
      "source": [
        "#To further check if there is an entry in a data such as \".\" for data cleaning\n",
        "\n",
        "df[df['Math Grade'] == '.']"
      ],
      "metadata": {
        "id": "zWci9FykPxol"
      },
      "execution_count": null,
      "outputs": []
    },
    {
      "cell_type": "markdown",
      "source": [
        "Checking the number of classes, unique values under species column:"
      ],
      "metadata": {
        "id": "K6d-Le4BP031"
      }
    },
    {
      "cell_type": "code",
      "source": [
        "# check number of classes, unique values under Board Exam column\n",
        "\n",
        "df['Board Exam Result'].unique()"
      ],
      "metadata": {
        "id": "6iqr1T4pP3wN"
      },
      "execution_count": null,
      "outputs": []
    },
    {
      "cell_type": "markdown",
      "source": [
        "Generating descriptive statistics results:"
      ],
      "metadata": {
        "id": "RlsG4JgKP-qN"
      }
    },
    {
      "cell_type": "code",
      "source": [
        "# Descriptive Statistics\n",
        "\n",
        "df[df['Board Exam Result'] == 'Passed'].groupby('Scholar Status').describe().T"
      ],
      "metadata": {
        "id": "K7O5w69fQDK2"
      },
      "execution_count": null,
      "outputs": []
    },
    {
      "cell_type": "markdown",
      "source": [
        "Generating plots:"
      ],
      "metadata": {
        "id": "sxZNZOJuQFz8"
      }
    },
    {
      "cell_type": "code",
      "source": [
        "# Generating pairplots\n",
        "\n",
        "sns.pairplot(df, hue = 'Board Exam Result')"
      ],
      "metadata": {
        "id": "a7xxHBnFQIY1"
      },
      "execution_count": null,
      "outputs": []
    },
    {
      "cell_type": "code",
      "source": [
        "# Just another pairplot\n",
        "\n",
        "sns.pairplot(df, hue = 'Scholar Status')"
      ],
      "metadata": {
        "id": "kBD7vWuyQK7u"
      },
      "execution_count": null,
      "outputs": []
    },
    {
      "cell_type": "code",
      "source": [
        "# More and more pairplot\n",
        "\n",
        "sns.pairplot(df, hue = 'Working Student Status')"
      ],
      "metadata": {
        "id": "GIr0hwAyQNSl"
      },
      "execution_count": null,
      "outputs": []
    },
    {
      "cell_type": "code",
      "source": [
        "#3d pairplot\n",
        "\n",
        "import plotly.express as px\n",
        "fig = px.scatter_3d(df, x='Math Grade', y='English Grade', z='Science Grade', color='Working Student Status')\n",
        "fig.show()"
      ],
      "metadata": {
        "id": "bbbMhL8JQUKN"
      },
      "execution_count": null,
      "outputs": []
    },
    {
      "cell_type": "markdown",
      "source": [
        "Preprocessing data for decision tree:"
      ],
      "metadata": {
        "id": "dtA5HPTLQVDu"
      }
    },
    {
      "cell_type": "code",
      "source": [
        "# Multiple Categorical Features\n",
        "# preprocess the data by encoding categorical features and separating the features from the target variable\n",
        "\n",
        "X = pd.get_dummies(df.drop('Board Exam Result', axis = 1), drop_first = True) # label encoding 0, 1\n",
        "y = df['Board Exam Result']"
      ],
      "metadata": {
        "id": "fJ97T7uvQXpn"
      },
      "execution_count": null,
      "outputs": []
    },
    {
      "cell_type": "markdown",
      "source": [
        "Splitting the data into training and testing subsets:"
      ],
      "metadata": {
        "id": "HuyAGq7FQaBN"
      }
    },
    {
      "cell_type": "code",
      "source": [
        "# train - test split\n",
        "# split the dataset into training and testing subsets\n",
        "\n",
        "from sklearn.model_selection import train_test_split\n",
        "X_train, X_test, y_train, y_test = train_test_split(X, y, test_size = 0.3, random_state = 101) #Yung random state ay any random number. But for lecture purposes, let us use the same random state"
      ],
      "metadata": {
        "id": "SVLFGvUYQdsu"
      },
      "execution_count": null,
      "outputs": []
    },
    {
      "cell_type": "markdown",
      "source": [
        "Training decision tree classifier using training data:"
      ],
      "metadata": {
        "id": "pCgDWKTLQgd9"
      }
    },
    {
      "cell_type": "code",
      "source": [
        "# Instance Model\n",
        "# train a Decision Tree classifier using the training data\n",
        "\n",
        "from sklearn.tree import DecisionTreeClassifier\n",
        "model = DecisionTreeClassifier(random_state = 101)\n",
        "model.fit(X_train, y_train) # Training ng model"
      ],
      "metadata": {
        "id": "FyMCmZloQj3F"
      },
      "execution_count": null,
      "outputs": []
    },
    {
      "cell_type": "markdown",
      "source": [
        "Obtaining predictions from trained decision tree using the testing data:"
      ],
      "metadata": {
        "id": "0IB4lzziQnEO"
      }
    },
    {
      "cell_type": "code",
      "source": [
        "# base Predictions (Default Settings)\n",
        "# obtain predictions from the trained Decision Tree classifier on the testing data\n",
        "\n",
        "base_preds = model.predict(X_test) # Prediction (based from X_test)\n",
        "base_preds"
      ],
      "metadata": {
        "id": "02nBpR30QpLd"
      },
      "execution_count": null,
      "outputs": []
    },
    {
      "cell_type": "markdown",
      "source": [
        "Generating a classification report:"
      ],
      "metadata": {
        "id": "BxMN352DQrcn"
      }
    },
    {
      "cell_type": "code",
      "source": [
        "# Classification Report\n",
        "\n",
        "from sklearn.metrics import classification_report, confusion_matrix\n",
        "print(classification_report(y_test, base_preds))"
      ],
      "metadata": {
        "id": "MJTKcovtQtkO"
      },
      "execution_count": null,
      "outputs": []
    },
    {
      "cell_type": "markdown",
      "source": [
        "Generating a confusion matrix:"
      ],
      "metadata": {
        "id": "ixW5qrAvQvk1"
      }
    },
    {
      "cell_type": "code",
      "source": [
        "# Confusion matrix\n",
        "\n",
        "cm = confusion_matrix(y_test, base_preds)\n",
        "sns.heatmap(cm, annot = True, fmt = 'd', xticklabels = ['Passed', 'Failed'],\n",
        "            yticklabels = ['Passed', 'Failed'], cbar = True).set(title = 'Confusion matrix')\n",
        "plt.show()"
      ],
      "metadata": {
        "id": "iCsIHAtiQyEN"
      },
      "execution_count": null,
      "outputs": []
    },
    {
      "cell_type": "markdown",
      "source": [
        "Displaying feature importance:"
      ],
      "metadata": {
        "id": "VhPGuRMkQ0R-"
      }
    },
    {
      "cell_type": "code",
      "source": [
        "# Decision Tree Model Attributes\n",
        "\n",
        "#model.feature_importances_\n",
        "\n",
        "# provide insights into which features are most important for the trained Decision Tree classifier's decision-making process\n",
        "\n",
        "ft = pd.DataFrame(index = X.columns, columns = ['Feature Importance'],\n",
        "                  data = model.feature_importances_) # eto ay gagawa ka ng table\n",
        "ft.sort_values(by = 'Feature Importance', ascending = False) # Eto ang pang sort ng values in descendin order"
      ],
      "metadata": {
        "id": "5zPjUjSxQ2pF"
      },
      "execution_count": null,
      "outputs": []
    },
    {
      "cell_type": "markdown",
      "source": [
        "Generate text representation of decision tree:"
      ],
      "metadata": {
        "id": "TwMg_2INQ5cl"
      }
    },
    {
      "cell_type": "code",
      "source": [
        "# This is how to do a text representation of decision trees 9text version)\n",
        "\n",
        "from sklearn import tree\n",
        "\n",
        "text_representation = tree.export_text(model, feature_names = X.columns.tolist())\n",
        "print(text_representation)"
      ],
      "metadata": {
        "id": "KSFjXmqiQ7el"
      },
      "execution_count": null,
      "outputs": []
    },
    {
      "cell_type": "markdown",
      "source": [
        "Generating a decision tree plot:"
      ],
      "metadata": {
        "id": "dbAXKYjIQ-H9"
      }
    },
    {
      "cell_type": "code",
      "source": [
        "# Tree Visualization (Graphical)\n",
        "\n",
        "from sklearn.tree import plot_tree # Implementation, left 9true), right (false)\n",
        "\n",
        "plt.figure(figsize = (15,10), dpi = 1000) # Pang set ng figure size\n",
        "plot_tree(model, feature_names = X.columns, filled = True,\n",
        "          class_names = ['Passed','Failed']);\n",
        "\n",
        "# see classification report for class arrangement"
      ],
      "metadata": {
        "id": "w4EvXIdfRBd-"
      },
      "execution_count": null,
      "outputs": []
    },
    {
      "cell_type": "markdown",
      "source": [
        "**END OF WORKSHOP**\n",
        "\n",
        "**Thank you!**"
      ],
      "metadata": {
        "id": "6Db8jR5HRD_k"
      }
    }
  ]
}